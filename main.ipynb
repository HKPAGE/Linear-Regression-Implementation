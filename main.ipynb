{
 "cells": [
  {
   "cell_type": "markdown",
   "id": "f84658ba",
   "metadata": {},
   "source": [
    "<h1>Simple Linear Regression</h1>\n",
    "Simple linear regression is perhaps the most basic of them all: It predicts a single target variable using one singular input variable."
   ]
  },
  {
   "cell_type": "code",
   "execution_count": 22,
   "id": "45005320",
   "metadata": {},
   "outputs": [],
   "source": [
    "import pandas as pd\n",
    "import numpy as np\n",
    "import matplotlib.pyplot as plt\n",
    "import math"
   ]
  },
  {
   "cell_type": "code",
   "execution_count": null,
   "id": "4b95947d",
   "metadata": {},
   "outputs": [],
   "source": [
    "data = pd.read_csv(\"./data/Housing.csv\")\n",
    "print(data.head())"
   ]
  },
  {
   "cell_type": "code",
   "execution_count": null,
   "id": "5c0dd1e7",
   "metadata": {},
   "outputs": [],
   "source": [
    "data = data[['area', 'price']]\n",
    "print(data.head())"
   ]
  },
  {
   "cell_type": "code",
   "execution_count": null,
   "id": "b29ef113",
   "metadata": {},
   "outputs": [],
   "source": [
    "matrix = np.array(data.values, 'float')\n",
    "matrix[0:5, :]"
   ]
  },
  {
   "cell_type": "code",
   "execution_count": null,
   "id": "c368f40c",
   "metadata": {},
   "outputs": [],
   "source": [
    "input_X = matrix[:, 0]\n",
    "target_y = matrix[:, 1]"
   ]
  },
  {
   "cell_type": "code",
   "execution_count": null,
   "id": "bb003978",
   "metadata": {},
   "outputs": [],
   "source": [
    "input_X = input_X / (np.max(input_X))\n",
    "input_X"
   ]
  },
  {
   "cell_type": "code",
   "execution_count": null,
   "id": "2a91babb",
   "metadata": {},
   "outputs": [],
   "source": [
    "plt.plot(input_X, target_y, \"bo\")\n",
    "plt.ylabel(\"House Price\")\n",
    "plt.xlabel(\"Square Footage\")\n",
    "plt.legend(['Housing Price'])\n",
    "plt.title(\"Square Footage vs. Housing Price\")\n",
    "plt.grid()\n",
    "plt.show()"
   ]
  },
  {
   "cell_type": "code",
   "execution_count": null,
   "id": "60c14271",
   "metadata": {},
   "outputs": [],
   "source": [
    "n = len(input_X)\n",
    "x_mean = np.mean(input_X)\n",
    "y_mean = np.mean(target_y)\n",
    "\n",
    "numerator = np.sum((input_X - x_mean) * (target_y - y_mean))\n",
    "denominator = np.sum((input_X - x_mean) ** 2)\n",
    "\n",
    "# Find our coefficients\n",
    "slope = numerator / denominator\n",
    "intercept = y_mean - slope * x_mean\n",
    "\n",
    "print(slope, intercept)"
   ]
  },
  {
   "cell_type": "code",
   "execution_count": null,
   "id": "c8609420",
   "metadata": {},
   "outputs": [],
   "source": [
    "predicted_y = slope * input_X + intercept\n",
    "print(predicted_y)"
   ]
  },
  {
   "cell_type": "code",
   "execution_count": null,
   "id": "815a20f5",
   "metadata": {},
   "outputs": [],
   "source": [
    "plt.scatter(input_X, target_y, label=\"Observed Value\")\n",
    "plt.plot(input_X, predicted_y, label=\"Predicted Value\", color=\"red\")\n",
    "plt.xlabel(\"Square Footage\")\n",
    "plt.ylabel(\"House Price\")\n",
    "plt.legend()\n",
    "plt.show()"
   ]
  },
  {
   "cell_type": "code",
   "execution_count": 25,
   "id": "beb1f862",
   "metadata": {},
   "outputs": [
    {
     "data": {
      "text/plain": [
       "1577612.5627607866"
      ]
     },
     "execution_count": 25,
     "metadata": {},
     "output_type": "execute_result"
    }
   ],
   "source": [
    "rmse = math.sqrt(np.mean((predicted_y - target_y) ** 2))\n",
    "rmse"
   ]
  }
 ],
 "metadata": {
  "kernelspec": {
   "display_name": "venv",
   "language": "python",
   "name": "python3"
  },
  "language_info": {
   "codemirror_mode": {
    "name": "ipython",
    "version": 3
   },
   "file_extension": ".py",
   "mimetype": "text/x-python",
   "name": "python",
   "nbconvert_exporter": "python",
   "pygments_lexer": "ipython3",
   "version": "3.13.7"
  }
 },
 "nbformat": 4,
 "nbformat_minor": 5
}
